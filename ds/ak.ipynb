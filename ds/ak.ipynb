{
 "cells": [
  {
   "cell_type": "code",
   "outputs": [],
   "source": [
    "import autokeras as ak\n",
    "from tensorflow.keras.utils import to_categorical\n",
    "import tensorflow as tf\n",
    "\n",
    "import os\n",
    "import numpy as np\n",
    "from PIL import Image\n",
    "from sklearn.model_selection import train_test_split\n",
    "\n",
    "from tensorflow.keras.models import Sequential\n",
    "from tensorflow.keras.layers import Conv2D, MaxPooling2D, Flatten, Dense\n",
    "from sklearn.model_selection import KFold\n",
    "from sklearn.metrics import confusion_matrix\n",
    "import matplotlib.pyplot as plt\n",
    "from sklearn.metrics import classification_report"
   ],
   "metadata": {
    "collapsed": false,
    "ExecuteTime": {
     "end_time": "2024-01-27T20:10:40.957523Z",
     "start_time": "2024-01-27T20:10:40.951662Z"
    }
   },
   "id": "cc23ccef7a6f4c",
   "execution_count": 46
  },
  {
   "cell_type": "code",
   "outputs": [
    {
     "data": {
      "text/plain": "[PhysicalDevice(name='/physical_device:GPU:0', device_type='GPU')]"
     },
     "execution_count": 2,
     "metadata": {},
     "output_type": "execute_result"
    }
   ],
   "source": [
    "tf.config.list_physical_devices('GPU')"
   ],
   "metadata": {
    "collapsed": false,
    "ExecuteTime": {
     "end_time": "2024-01-27T19:52:43.816656Z",
     "start_time": "2024-01-27T19:52:43.806890Z"
    }
   },
   "id": "f67f9f2cd29fe297",
   "execution_count": 2
  },
  {
   "cell_type": "code",
   "outputs": [],
   "source": [
    "data_dir = '/Users/nikitaantipov/Documents/image_data/state-farm-distracted-driver-detection'"
   ],
   "metadata": {
    "collapsed": false,
    "ExecuteTime": {
     "end_time": "2024-01-27T19:52:52.091895Z",
     "start_time": "2024-01-27T19:52:52.082162Z"
    }
   },
   "id": "599cbbcab4f9b9ca",
   "execution_count": 3
  },
  {
   "cell_type": "code",
   "execution_count": 4,
   "id": "0c23523a",
   "metadata": {
    "ExecuteTime": {
     "end_time": "2024-01-27T19:52:52.932049Z",
     "start_time": "2024-01-27T19:52:52.930219Z"
    }
   },
   "outputs": [],
   "source": [
    "train_dir = f'{data_dir}/imgs/train'\n",
    "test_dir = f'{data_dir}/imgs/test'\n",
    "csv_file = f'{data_dir}/driver_imgs_list.csv'"
   ]
  },
  {
   "cell_type": "code",
   "execution_count": 5,
   "id": "45d5d804",
   "metadata": {
    "ExecuteTime": {
     "end_time": "2024-01-27T19:52:56.708062Z",
     "start_time": "2024-01-27T19:52:56.699670Z"
    }
   },
   "outputs": [],
   "source": [
    "def load_images_from_folder(base_folder, size=(112, 112)):\n",
    "    total_images = sum([len(files) for r, d, files in os.walk(base_folder)])\n",
    "\n",
    "    all_images = np.empty((total_images, size[0], size[1], 3), dtype=np.uint8)\n",
    "    all_labels = np.empty(total_images, dtype=np.uint8)\n",
    "\n",
    "    idx = 0\n",
    "    for folder in os.listdir(base_folder):\n",
    "        folder_path = os.path.join(base_folder, folder)\n",
    "        \n",
    "        if os.path.isdir(folder_path):\n",
    "            for filename in os.listdir(folder_path):\n",
    "                img_path = os.path.join(folder_path, filename)\n",
    "                \n",
    "                try:\n",
    "                    img = Image.open(img_path).resize(size)\n",
    "                    all_images[idx] = np.array(img)\n",
    "                    all_labels[idx] = folder[-1]\n",
    "                    idx += 1\n",
    "                except IOError:\n",
    "                    print(f\"Error in reading {img_path}. Skipping.\")\n",
    "\n",
    "    return all_images, all_labels"
   ]
  },
  {
   "cell_type": "code",
   "execution_count": 6,
   "id": "a1819476",
   "metadata": {
    "ExecuteTime": {
     "end_time": "2024-01-27T19:54:24.779284Z",
     "start_time": "2024-01-27T19:52:59.835558Z"
    }
   },
   "outputs": [],
   "source": [
    "base_folder = f'{data_dir}/imgs/train'\n",
    "images, labels = load_images_from_folder(base_folder)"
   ]
  },
  {
   "cell_type": "code",
   "outputs": [],
   "source": [
    "np.savez_compressed('train.npz', images=images, labels=labels)"
   ],
   "metadata": {
    "collapsed": false,
    "ExecuteTime": {
     "end_time": "2024-01-27T19:55:25.327950Z",
     "start_time": "2024-01-27T19:55:03.797265Z"
    }
   },
   "id": "cad62b3edcc2798d",
   "execution_count": 7
  },
  {
   "cell_type": "code",
   "outputs": [],
   "source": [
    "train_npz = np.load('train.npz')\n",
    "images = train_npz['images']\n",
    "labels = train_npz['labels']"
   ],
   "metadata": {
    "collapsed": false,
    "ExecuteTime": {
     "end_time": "2024-01-27T19:56:34.247215Z",
     "start_time": "2024-01-27T19:56:32.118556Z"
    }
   },
   "id": "b1c4828ecd9bf3b",
   "execution_count": 8
  },
  {
   "cell_type": "code",
   "execution_count": 9,
   "id": "339a63cc",
   "metadata": {
    "ExecuteTime": {
     "end_time": "2024-01-27T19:56:36.849819Z",
     "start_time": "2024-01-27T19:56:36.841708Z"
    }
   },
   "outputs": [
    {
     "data": {
      "text/plain": "(22424, 112, 112, 3)"
     },
     "execution_count": 9,
     "metadata": {},
     "output_type": "execute_result"
    }
   ],
   "source": [
    "images.shape"
   ]
  },
  {
   "cell_type": "code",
   "outputs": [
    {
     "data": {
      "text/plain": "array([[[ 44,  52,  41],\n        [ 44,  52,  41],\n        [ 44,  52,  41],\n        ...,\n        [228, 255, 209],\n        [247, 254, 232],\n        [254, 254, 252]],\n\n       [[ 44,  52,  41],\n        [ 44,  52,  41],\n        [ 44,  52,  41],\n        ...,\n        [199, 242, 190],\n        [227, 252, 214],\n        [244, 255, 233]],\n\n       [[ 44,  52,  41],\n        [ 45,  53,  42],\n        [ 45,  53,  42],\n        ...,\n        [175, 225, 185],\n        [187, 235, 192],\n        [213, 249, 209]],\n\n       ...,\n\n       [[ 21,  24,  18],\n        [ 16,  19,  13],\n        [ 12,  15,   9],\n        ...,\n        [  9,   9,   5],\n        [  8,   7,   5],\n        [ 27,  33,  29]],\n\n       [[ 20,  22,  14],\n        [ 20,  22,  14],\n        [ 19,  21,  14],\n        ...,\n        [ 11,   8,   5],\n        [  7,   6,   4],\n        [ 35,  46,  40]],\n\n       [[ 40,  49,  36],\n        [ 40,  49,  36],\n        [ 39,  48,  35],\n        ...,\n        [ 13,   4,   5],\n        [ 12,   5,   5],\n        [ 33,  41,  36]]], dtype=uint8)"
     },
     "execution_count": 10,
     "metadata": {},
     "output_type": "execute_result"
    }
   ],
   "source": [
    "images[0]"
   ],
   "metadata": {
    "collapsed": false,
    "ExecuteTime": {
     "end_time": "2024-01-27T19:56:40.409085Z",
     "start_time": "2024-01-27T19:56:40.401476Z"
    }
   },
   "id": "db2448ad471e7d7c",
   "execution_count": 10
  },
  {
   "cell_type": "code",
   "execution_count": 11,
   "id": "7bc45f84",
   "metadata": {
    "ExecuteTime": {
     "end_time": "2024-01-27T19:56:42.289218Z",
     "start_time": "2024-01-27T19:56:42.284416Z"
    }
   },
   "outputs": [
    {
     "data": {
      "text/plain": "(22424,)"
     },
     "execution_count": 11,
     "metadata": {},
     "output_type": "execute_result"
    }
   ],
   "source": [
    "labels.shape"
   ]
  },
  {
   "cell_type": "code",
   "outputs": [
    {
     "data": {
      "text/plain": "7"
     },
     "execution_count": 12,
     "metadata": {},
     "output_type": "execute_result"
    }
   ],
   "source": [
    "labels[0]"
   ],
   "metadata": {
    "collapsed": false,
    "ExecuteTime": {
     "end_time": "2024-01-27T19:56:42.838633Z",
     "start_time": "2024-01-27T19:56:42.833369Z"
    }
   },
   "id": "8014995eff708097",
   "execution_count": 12
  },
  {
   "cell_type": "code",
   "execution_count": 13,
   "id": "215b0be8",
   "metadata": {
    "ExecuteTime": {
     "end_time": "2024-01-27T19:56:56.556894Z",
     "start_time": "2024-01-27T19:56:56.147020Z"
    }
   },
   "outputs": [],
   "source": [
    "X = images.astype('float32') / 255"
   ]
  },
  {
   "cell_type": "code",
   "execution_count": 14,
   "id": "a1bf839a",
   "metadata": {
    "ExecuteTime": {
     "end_time": "2024-01-27T19:56:58.258377Z",
     "start_time": "2024-01-27T19:56:58.250375Z"
    }
   },
   "outputs": [
    {
     "data": {
      "text/plain": "(22424, 112, 112, 3)"
     },
     "execution_count": 14,
     "metadata": {},
     "output_type": "execute_result"
    }
   ],
   "source": [
    "X.shape"
   ]
  },
  {
   "cell_type": "code",
   "execution_count": 15,
   "id": "5ea94f69",
   "metadata": {
    "ExecuteTime": {
     "end_time": "2024-01-27T19:56:59.883116Z",
     "start_time": "2024-01-27T19:56:59.877063Z"
    }
   },
   "outputs": [],
   "source": [
    "Y = to_categorical(labels, 10)"
   ]
  },
  {
   "cell_type": "code",
   "execution_count": 16,
   "id": "90b7dbb6",
   "metadata": {
    "ExecuteTime": {
     "end_time": "2024-01-27T19:57:00.691354Z",
     "start_time": "2024-01-27T19:57:00.404673Z"
    }
   },
   "outputs": [],
   "source": [
    "X_train, X_test, y_train, y_test = train_test_split(X, Y, test_size=0.2, random_state=42)"
   ]
  },
  {
   "cell_type": "code",
   "execution_count": 17,
   "id": "1218b723",
   "metadata": {
    "ExecuteTime": {
     "end_time": "2024-01-27T19:57:01.162062Z",
     "start_time": "2024-01-27T19:57:01.156781Z"
    }
   },
   "outputs": [
    {
     "data": {
      "text/plain": "((17939, 112, 112, 3), (4485, 112, 112, 3))"
     },
     "execution_count": 17,
     "metadata": {},
     "output_type": "execute_result"
    }
   ],
   "source": [
    "X_train.shape, X_test.shape"
   ]
  },
  {
   "cell_type": "code",
   "execution_count": 18,
   "id": "aa525d0a",
   "metadata": {
    "ExecuteTime": {
     "end_time": "2024-01-27T19:57:02.193226Z",
     "start_time": "2024-01-27T19:57:02.185802Z"
    }
   },
   "outputs": [
    {
     "data": {
      "text/plain": "((17939, 10), (4485, 10))"
     },
     "execution_count": 18,
     "metadata": {},
     "output_type": "execute_result"
    }
   ],
   "source": [
    "y_train.shape, y_test.shape"
   ]
  },
  {
   "cell_type": "code",
   "execution_count": 22,
   "id": "fa41894d-be9c-46b6-a5c3-2762ce5a264a",
   "metadata": {
    "ExecuteTime": {
     "end_time": "2024-01-27T19:57:53.359278Z",
     "start_time": "2024-01-27T19:57:53.324210Z"
    }
   },
   "outputs": [],
   "source": [
    "model = Sequential([\n",
    "        Conv2D(32, (3, 3), activation='relu', input_shape=(112, 112, 3)),\n",
    "        MaxPooling2D(2, 2),\n",
    "        Flatten(),\n",
    "        Dense(10, activation='softmax')\n",
    "])\n",
    "model.compile(optimizer='adam', loss='categorical_crossentropy', metrics=['accuracy'])"
   ]
  },
  {
   "cell_type": "code",
   "execution_count": 23,
   "id": "5c4a712f-c304-42bc-ad26-79c3196846d7",
   "metadata": {
    "ExecuteTime": {
     "end_time": "2024-01-27T19:57:54.611999Z",
     "start_time": "2024-01-27T19:57:54.604964Z"
    }
   },
   "outputs": [
    {
     "name": "stdout",
     "output_type": "stream",
     "text": [
      "Model: \"sequential_1\"\n",
      "_________________________________________________________________\n",
      " Layer (type)                Output Shape              Param #   \n",
      "=================================================================\n",
      " conv2d_1 (Conv2D)           (None, 110, 110, 32)      896       \n",
      "                                                                 \n",
      " max_pooling2d_1 (MaxPoolin  (None, 55, 55, 32)        0         \n",
      " g2D)                                                            \n",
      "                                                                 \n",
      " flatten_1 (Flatten)         (None, 96800)             0         \n",
      "                                                                 \n",
      " dense_1 (Dense)             (None, 10)                968010    \n",
      "                                                                 \n",
      "=================================================================\n",
      "Total params: 968906 (3.70 MB)\n",
      "Trainable params: 968906 (3.70 MB)\n",
      "Non-trainable params: 0 (0.00 Byte)\n",
      "_________________________________________________________________\n"
     ]
    }
   ],
   "source": [
    "model.summary()"
   ]
  },
  {
   "cell_type": "code",
   "execution_count": 24,
   "id": "a9c40589-c102-45aa-b3f3-6d7383cfcb34",
   "metadata": {
    "ExecuteTime": {
     "end_time": "2024-01-27T19:58:49.629367Z",
     "start_time": "2024-01-27T19:57:55.449191Z"
    }
   },
   "outputs": [
    {
     "name": "stdout",
     "output_type": "stream",
     "text": [
      "Epoch 1/5\n",
      "561/561 [==============================] - 11s 19ms/step - loss: 0.5301 - accuracy: 0.8674 - val_loss: 0.0618 - val_accuracy: 0.9851\n",
      "Epoch 2/5\n",
      "561/561 [==============================] - 10s 18ms/step - loss: 0.0220 - accuracy: 0.9962 - val_loss: 0.0246 - val_accuracy: 0.9944\n",
      "Epoch 3/5\n",
      "561/561 [==============================] - 10s 19ms/step - loss: 0.0068 - accuracy: 0.9989 - val_loss: 0.0230 - val_accuracy: 0.9938\n",
      "Epoch 4/5\n",
      "561/561 [==============================] - 10s 18ms/step - loss: 0.0034 - accuracy: 0.9994 - val_loss: 0.0179 - val_accuracy: 0.9962\n",
      "Epoch 5/5\n",
      "561/561 [==============================] - 12s 22ms/step - loss: 0.0021 - accuracy: 0.9998 - val_loss: 0.0189 - val_accuracy: 0.9953\n"
     ]
    },
    {
     "data": {
      "text/plain": "<keras.src.callbacks.History at 0x29f788dd0>"
     },
     "execution_count": 24,
     "metadata": {},
     "output_type": "execute_result"
    }
   ],
   "source": [
    "model.fit(X_train, y_train, validation_data=(X_test, y_test), epochs=5)"
   ]
  },
  {
   "cell_type": "code",
   "execution_count": 27,
   "id": "adc83282-52a4-46d8-8601-9ef637b87f96",
   "metadata": {
    "ExecuteTime": {
     "end_time": "2024-01-27T20:02:41.967721Z",
     "start_time": "2024-01-27T20:02:40.469574Z"
    }
   },
   "outputs": [
    {
     "name": "stdout",
     "output_type": "stream",
     "text": [
      "141/141 [==============================] - 1s 9ms/step - loss: 0.0189 - accuracy: 0.9953\n"
     ]
    },
    {
     "data": {
      "text/plain": "[0.018888862803578377, 0.9953176975250244]"
     },
     "execution_count": 27,
     "metadata": {},
     "output_type": "execute_result"
    }
   ],
   "source": [
    "model.evaluate(X_test, y_test)"
   ]
  },
  {
   "cell_type": "code",
   "execution_count": 26,
   "id": "0d3dcd41-574d-400d-931e-d128c18f57d3",
   "metadata": {
    "ExecuteTime": {
     "end_time": "2024-01-27T20:02:15.525160Z",
     "start_time": "2024-01-27T20:02:15.484520Z"
    }
   },
   "outputs": [],
   "source": [
    "model.save(\"model.keras\")"
   ]
  },
  {
   "cell_type": "code",
   "outputs": [],
   "source": [
    "model_new = tf.keras.models.load_model(\"model.keras\")"
   ],
   "metadata": {
    "collapsed": false,
    "ExecuteTime": {
     "end_time": "2024-01-27T20:20:06.812843Z",
     "start_time": "2024-01-27T20:20:06.756934Z"
    }
   },
   "id": "683d68edf91c0edb",
   "execution_count": 48
  },
  {
   "cell_type": "code",
   "outputs": [
    {
     "name": "stdout",
     "output_type": "stream",
     "text": [
      "Model: \"sequential_1\"\n",
      "_________________________________________________________________\n",
      " Layer (type)                Output Shape              Param #   \n",
      "=================================================================\n",
      " conv2d_1 (Conv2D)           (None, 110, 110, 32)      896       \n",
      "                                                                 \n",
      " max_pooling2d_1 (MaxPoolin  (None, 55, 55, 32)        0         \n",
      " g2D)                                                            \n",
      "                                                                 \n",
      " flatten_1 (Flatten)         (None, 96800)             0         \n",
      "                                                                 \n",
      " dense_1 (Dense)             (None, 10)                968010    \n",
      "                                                                 \n",
      "=================================================================\n",
      "Total params: 968906 (3.70 MB)\n",
      "Trainable params: 968906 (3.70 MB)\n",
      "Non-trainable params: 0 (0.00 Byte)\n",
      "_________________________________________________________________\n"
     ]
    }
   ],
   "source": [
    "model_new.summary()"
   ],
   "metadata": {
    "collapsed": false,
    "ExecuteTime": {
     "end_time": "2024-01-27T20:20:15.335866Z",
     "start_time": "2024-01-27T20:20:15.326301Z"
    }
   },
   "id": "56f1d1c0e79eb9e0",
   "execution_count": 49
  },
  {
   "cell_type": "code",
   "outputs": [
    {
     "name": "stdout",
     "output_type": "stream",
     "text": [
      "141/141 [==============================] - 1s 9ms/step - loss: 0.0189 - accuracy: 0.9953\n"
     ]
    },
    {
     "data": {
      "text/plain": "[0.018888862803578377, 0.9953176975250244]"
     },
     "execution_count": 50,
     "metadata": {},
     "output_type": "execute_result"
    }
   ],
   "source": [
    "model_new.evaluate(X_test, y_test)"
   ],
   "metadata": {
    "collapsed": false,
    "ExecuteTime": {
     "end_time": "2024-01-27T20:20:25.520419Z",
     "start_time": "2024-01-27T20:20:23.911936Z"
    }
   },
   "id": "6c7c05f660cbadce",
   "execution_count": 50
  },
  {
   "cell_type": "code",
   "execution_count": 28,
   "id": "d0d5f6af-6403-480b-a187-d6846e046cf9",
   "metadata": {
    "ExecuteTime": {
     "end_time": "2024-01-27T20:02:59.792302Z",
     "start_time": "2024-01-27T20:02:55.555473Z"
    }
   },
   "outputs": [
    {
     "name": "stdout",
     "output_type": "stream",
     "text": [
      "561/561 [==============================] - 3s 5ms/step\n",
      "141/141 [==============================] - 1s 4ms/step\n"
     ]
    }
   ],
   "source": [
    "y_pred_train = model.predict(X_train)\n",
    "y_pred_test = model.predict(X_test)\n",
    "\n",
    "# Convert predictions from one-hot encoded to class numbers\n",
    "y_pred_train_classes = np.argmax(y_pred_train, axis=1)\n",
    "y_pred_test_classes = np.argmax(y_pred_test, axis=1)\n",
    "\n",
    "# Convert true labels from one-hot encoded to class numbers\n",
    "y_true_train = np.argmax(y_train, axis=1)\n",
    "y_true_test = np.argmax(y_test, axis=1)"
   ]
  },
  {
   "cell_type": "code",
   "outputs": [
    {
     "data": {
      "text/plain": "(array([ 168,  239,  349,  445,  739, 1188, 1690, 1871, 1876, 2431, 2562,\n        2585, 2701, 2738, 3392, 3556, 3632, 3800, 3993, 4060, 4269]),)"
     },
     "execution_count": 35,
     "metadata": {},
     "output_type": "execute_result"
    }
   ],
   "source": [
    "np.where(y_pred_test_classes != y_true_test)"
   ],
   "metadata": {
    "collapsed": false,
    "ExecuteTime": {
     "end_time": "2024-01-27T20:06:14.610792Z",
     "start_time": "2024-01-27T20:06:14.589603Z"
    }
   },
   "id": "5eb49423937cb9ce",
   "execution_count": 35
  },
  {
   "cell_type": "code",
   "outputs": [],
   "source": [
    "index = 239"
   ],
   "metadata": {
    "collapsed": false,
    "ExecuteTime": {
     "end_time": "2024-01-27T20:08:55.817880Z",
     "start_time": "2024-01-27T20:08:55.812669Z"
    }
   },
   "id": "e6e92382df65ea74",
   "execution_count": 43
  },
  {
   "cell_type": "code",
   "outputs": [
    {
     "data": {
      "text/plain": "<matplotlib.image.AxesImage at 0x2ff5bdb50>"
     },
     "execution_count": 44,
     "metadata": {},
     "output_type": "execute_result"
    },
    {
     "data": {
      "text/plain": "<Figure size 640x480 with 1 Axes>",
      "image/png": "[encoded data removed]"
     },
     "metadata": {},
     "output_type": "display_data"
    }
   ],
   "source": [
    "plt.imshow(X_test[index])"
   ],
   "metadata": {
    "collapsed": false,
    "ExecuteTime": {
     "end_time": "2024-01-27T20:08:56.694707Z",
     "start_time": "2024-01-27T20:08:56.632122Z"
    }
   },
   "id": "3989475e70234ab8",
   "execution_count": 44
  },
  {
   "cell_type": "code",
   "outputs": [
    {
     "data": {
      "text/plain": "(8, 9)"
     },
     "execution_count": 45,
     "metadata": {},
     "output_type": "execute_result"
    }
   ],
   "source": [
    "y_pred_test_classes[index], y_true_test[index]"
   ],
   "metadata": {
    "collapsed": false,
    "ExecuteTime": {
     "end_time": "2024-01-27T20:08:57.679529Z",
     "start_time": "2024-01-27T20:08:57.675891Z"
    }
   },
   "id": "ee91ff2e4cd9b9f0",
   "execution_count": 45
  },
  {
   "cell_type": "code",
   "execution_count": 47,
   "id": "171619e3-d705-4b89-afc9-fca96435165d",
   "metadata": {
    "ExecuteTime": {
     "end_time": "2024-01-27T20:10:45.943572Z",
     "start_time": "2024-01-27T20:10:45.909070Z"
    }
   },
   "outputs": [
    {
     "name": "stdout",
     "output_type": "stream",
     "text": [
      "              precision    recall  f1-score   support\n",
      "\n",
      "           0       1.00      1.00      1.00      1937\n",
      "           1       1.00      1.00      1.00      1816\n",
      "           2       1.00      1.00      1.00      1890\n",
      "           3       1.00      1.00      1.00      1884\n",
      "           4       1.00      1.00      1.00      1871\n",
      "           5       1.00      1.00      1.00      1854\n",
      "           6       1.00      1.00      1.00      1847\n",
      "           7       1.00      1.00      1.00      1646\n",
      "           8       1.00      1.00      1.00      1515\n",
      "           9       1.00      1.00      1.00      1679\n",
      "\n",
      "    accuracy                           1.00     17939\n",
      "   macro avg       1.00      1.00      1.00     17939\n",
      "weighted avg       1.00      1.00      1.00     17939\n"
     ]
    }
   ],
   "source": [
    "print(classification_report(y_true_train, y_pred_train_classes))"
   ]
  },
  {
   "cell_type": "code",
   "execution_count": 26,
   "id": "7667f71a-e175-4688-8d8f-c1d64f8420af",
   "metadata": {},
   "outputs": [
    {
     "name": "stdout",
     "output_type": "stream",
     "text": [
      "[[1949    0    0    0    0    0    0    0    0    0]\n",
      " [   0 1809    0    0    0    0    0    0    0    0]\n",
      " [   0    0 1888    0    0    0    0    0    0    0]\n",
      " [   0    0    0 1854    0    0    0    0    0    0]\n",
      " [   0    0    0    0 1898    0    0    0    0    0]\n",
      " [   0    0    0    0    0 1836    0    0    0    0]\n",
      " [   0    0    0    0    0    0 1860    0    0    0]\n",
      " [   0    0    0    0    0    0    0 1605    0    0]\n",
      " [   0    0    0    0    0    0    0    0 1543    0]\n",
      " [   0    0    0    0    0    0    0    0    0 1697]]\n"
     ]
    }
   ],
   "source": [
    "print(confusion_matrix(y_true_train, y_pred_train_classes))"
   ]
  },
  {
   "cell_type": "code",
   "execution_count": 27,
   "id": "a2ba3bf3-30db-4ae7-b168-5e9b1ff021e0",
   "metadata": {},
   "outputs": [
    {
     "name": "stdout",
     "output_type": "stream",
     "text": [
      "              precision    recall  f1-score   support\n",
      "\n",
      "           0       0.99      1.00      1.00       540\n",
      "           1       1.00      1.00      1.00       458\n",
      "           2       1.00      1.00      1.00       429\n",
      "           3       1.00      1.00      1.00       492\n",
      "           4       1.00      1.00      1.00       428\n",
      "           5       1.00      0.99      1.00       476\n",
      "           6       1.00      1.00      1.00       465\n",
      "           7       1.00      0.99      1.00       397\n",
      "           8       1.00      1.00      1.00       368\n",
      "           9       1.00      1.00      1.00       432\n",
      "\n",
      "    accuracy                           1.00      4485\n",
      "   macro avg       1.00      1.00      1.00      4485\n",
      "weighted avg       1.00      1.00      1.00      4485\n"
     ]
    }
   ],
   "source": [
    "print(classification_report(y_true_test, y_pred_test_classes))"
   ]
  },
  {
   "cell_type": "code",
   "execution_count": 29,
   "id": "016a313b-d8d4-4a3b-b2d4-d85e1cf7e3f6",
   "metadata": {},
   "outputs": [
    {
     "name": "stdout",
     "output_type": "stream",
     "text": [
      "[[539   0   0   0   1   0   0   0   0   0]\n",
      " [  0 457   0   0   0   0   0   0   0   1]\n",
      " [  0   0 429   0   0   0   0   0   0   0]\n",
      " [  0   0   0 492   0   0   0   0   0   0]\n",
      " [  0   0   0   2 426   0   0   0   0   0]\n",
      " [  3   0   0   0   0 472   0   1   0   0]\n",
      " [  0   0   0   0   0   0 465   0   0   0]\n",
      " [  0   0   2   0   0   0   0 395   0   0]\n",
      " [  0   0   0   0   0   0   0   0 367   1]\n",
      " [  0   0   0   0   0   0   0   0   1 431]]\n"
     ]
    }
   ],
   "source": [
    "print(confusion_matrix(y_true_test, y_pred_test_classes))"
   ]
  },
  {
   "cell_type": "code",
   "execution_count": 11,
   "id": "dfa042d5-b381-40b7-9c5c-1e1ee5e5fd4c",
   "metadata": {},
   "outputs": [],
   "source": [
    "n_folds = 10\n",
    "\n",
    "kfold = KFold(n_folds, shuffle=True, random_state=42)\n",
    "\n",
    "models = []\n",
    "histories = []\n",
    "accuracies = []\n",
    "precisions = []\n",
    "recalls = []\n",
    "f1_scores = []\n",
    "conf_matrices = []"
   ]
  },
  {
   "cell_type": "code",
   "execution_count": 14,
   "id": "08fdb180",
   "metadata": {},
   "outputs": [],
   "source": [
    "input_node = ak.nodes.ImageInput()\n",
    "output_node = ak.ImageBlock(\n",
    "    block_type=\"vanilla\",\n",
    "    normalize=False,\n",
    "    augment=False,\n",
    ")(input_node)\n",
    "output_node = ak.ClassificationHead()(output_node)\n",
    "clf = ak.AutoModel(\n",
    "    inputs=input_node, outputs=output_node, overwrite=True, max_trials=100, objective='val_accuracy' \n",
    ")"
   ]
  },
  {
   "cell_type": "code",
   "execution_count": 15,
   "id": "54e21fbb",
   "metadata": {},
   "outputs": [
    {
     "name": "stdout",
     "output_type": "stream",
     "text": [
      "Trial 100 Complete [00h 00m 23s]\n",
      "val_accuracy: 0.9723522663116455\n",
      "\n",
      "Best val_accuracy So Far: 0.9723522663116455\n",
      "Total elapsed time: 00h 42m 58s\n",
      "Epoch 1/10\n",
      "561/561 [==============================] - 4s 4ms/step - loss: 2.0660 - accuracy: 0.2216 - val_loss: 1.3987 - val_accuracy: 0.4792\n",
      "Epoch 2/10\n",
      "561/561 [==============================] - 2s 4ms/step - loss: 0.8549 - accuracy: 0.7088 - val_loss: 0.5662 - val_accuracy: 0.8167\n",
      "Epoch 3/10\n",
      "561/561 [==============================] - 2s 4ms/step - loss: 0.4477 - accuracy: 0.8609 - val_loss: 0.3390 - val_accuracy: 0.8981\n",
      "Epoch 4/10\n",
      "561/561 [==============================] - 2s 4ms/step - loss: 0.2928 - accuracy: 0.9115 - val_loss: 0.2669 - val_accuracy: 0.9242\n",
      "Epoch 5/10\n",
      "561/561 [==============================] - 2s 4ms/step - loss: 0.2179 - accuracy: 0.9357 - val_loss: 0.2197 - val_accuracy: 0.9349\n",
      "Epoch 6/10\n",
      "561/561 [==============================] - 2s 4ms/step - loss: 0.1588 - accuracy: 0.9553 - val_loss: 0.1979 - val_accuracy: 0.9478\n",
      "Epoch 7/10\n",
      "561/561 [==============================] - 2s 4ms/step - loss: 0.1237 - accuracy: 0.9651 - val_loss: 0.1990 - val_accuracy: 0.9478\n",
      "Epoch 8/10\n",
      "561/561 [==============================] - 2s 4ms/step - loss: 0.0957 - accuracy: 0.9735 - val_loss: 0.1871 - val_accuracy: 0.9507\n",
      "Epoch 9/10\n",
      "561/561 [==============================] - 2s 4ms/step - loss: 0.0730 - accuracy: 0.9798 - val_loss: 0.1651 - val_accuracy: 0.9601\n",
      "Epoch 10/10\n",
      "561/561 [==============================] - 2s 4ms/step - loss: 0.0554 - accuracy: 0.9856 - val_loss: 0.1566 - val_accuracy: 0.9639\n",
      "INFO:tensorflow:Assets written to: ./auto_model/best_model/assets\n"
     ]
    },
    {
     "name": "stderr",
     "output_type": "stream",
     "text": [
      "INFO:tensorflow:Assets written to: ./auto_model/best_model/assets\n"
     ]
    },
    {
     "data": {
      "text/plain": [
       "<keras.src.callbacks.History at 0x7f09e46da380>"
      ]
     },
     "execution_count": 15,
     "metadata": {},
     "output_type": "execute_result"
    }
   ],
   "source": [
    "clf.fit(X_train, y_train, validation_data=(X_test, y_test), epochs=10)"
   ]
  },
  {
   "cell_type": "code",
   "execution_count": 16,
   "id": "d1dcbf35-9b94-4e6a-8cda-a40b6e2409aa",
   "metadata": {},
   "outputs": [],
   "source": [
    "model = clf.export_model()"
   ]
  },
  {
   "cell_type": "code",
   "execution_count": 17,
   "id": "b0a9d492-4f40-407c-b3a5-ad485ea4bcd4",
   "metadata": {},
   "outputs": [
    {
     "name": "stdout",
     "output_type": "stream",
     "text": [
      "Model: \"model\"\n",
      "_________________________________________________________________\n",
      " Layer (type)                Output Shape              Param #   \n",
      "=================================================================\n",
      " input_1 (InputLayer)        [(None, 112, 112, 3)]     0         \n",
      "                                                                 \n",
      " cast_to_float32 (CastToFlo  (None, 112, 112, 3)       0         \n",
      " at32)                                                           \n",
      "                                                                 \n",
      " conv2d (Conv2D)             (None, 110, 110, 16)      448       \n",
      "                                                                 \n",
      " conv2d_1 (Conv2D)           (None, 108, 108, 4)       580       \n",
      "                                                                 \n",
      " max_pooling2d (MaxPooling2  (None, 54, 54, 4)         0         \n",
      " D)                                                              \n",
      "                                                                 \n",
      " conv2d_2 (Conv2D)           (None, 52, 52, 8)         296       \n",
      "                                                                 \n",
      " conv2d_3 (Conv2D)           (None, 50, 50, 2)         146       \n",
      "                                                                 \n",
      " max_pooling2d_1 (MaxPoolin  (None, 25, 25, 2)         0         \n",
      " g2D)                                                            \n",
      "                                                                 \n",
      " conv2d_4 (Conv2D)           (None, 23, 23, 8)         152       \n",
      "                                                                 \n",
      " conv2d_5 (Conv2D)           (None, 21, 21, 32)        2336      \n",
      "                                                                 \n",
      " max_pooling2d_2 (MaxPoolin  (None, 10, 10, 32)        0         \n",
      " g2D)                                                            \n",
      "                                                                 \n",
      " conv2d_6 (Conv2D)           (None, 8, 8, 32)          9248      \n",
      "                                                                 \n",
      " conv2d_7 (Conv2D)           (None, 6, 6, 32)          9248      \n",
      "                                                                 \n",
      " max_pooling2d_3 (MaxPoolin  (None, 3, 3, 32)          0         \n",
      " g2D)                                                            \n",
      "                                                                 \n",
      " conv2d_8 (Conv2D)           (None, 3, 3, 16)          4624      \n",
      "                                                                 \n",
      " conv2d_9 (Conv2D)           (None, 3, 3, 16)          2320      \n",
      "                                                                 \n",
      " max_pooling2d_4 (MaxPoolin  (None, 2, 2, 16)          0         \n",
      " g2D)                                                            \n",
      "                                                                 \n",
      " conv2d_10 (Conv2D)          (None, 2, 2, 8)           1160      \n",
      "                                                                 \n",
      " conv2d_11 (Conv2D)          (None, 2, 2, 8)           584       \n",
      "                                                                 \n",
      " max_pooling2d_5 (MaxPoolin  (None, 1, 1, 8)           0         \n",
      " g2D)                                                            \n",
      "                                                                 \n",
      " global_max_pooling2d (Glob  (None, 8)                 0         \n",
      " alMaxPooling2D)                                                 \n",
      "                                                                 \n",
      " dense (Dense)               (None, 10)                90        \n",
      "                                                                 \n",
      " classification_head_1 (Sof  (None, 10)                0         \n",
      " tmax)                                                           \n",
      "                                                                 \n",
      "=================================================================\n",
      "Total params: 31232 (122.00 KB)\n",
      "Trainable params: 31232 (122.00 KB)\n",
      "Non-trainable params: 0 (0.00 Byte)\n",
      "_________________________________________________________________\n"
     ]
    }
   ],
   "source": [
    "model.summary()"
   ]
  },
  {
   "cell_type": "code",
   "outputs": [
    {
     "name": "stdout",
     "output_type": "stream",
     "text": [
      "Model: \"sequential_1\"\n",
      "_________________________________________________________________\n",
      " Layer (type)                Output Shape              Param #   \n",
      "=================================================================\n",
      " conv2d_1 (Conv2D)           (None, 110, 110, 32)      896       \n",
      "                                                                 \n",
      " max_pooling2d_1 (MaxPoolin  (None, 55, 55, 32)        0         \n",
      " g2D)                                                            \n",
      "                                                                 \n",
      " flatten_1 (Flatten)         (None, 96800)             0         \n",
      "                                                                 \n",
      " dense_1 (Dense)             (None, 10)                968010    \n",
      "                                                                 \n",
      "=================================================================\n",
      "Total params: 968906 (3.70 MB)\n",
      "Trainable params: 968906 (3.70 MB)\n",
      "Non-trainable params: 0 (0.00 Byte)\n",
      "_________________________________________________________________\n"
     ]
    }
   ],
   "source": [
    "model.summary()"
   ],
   "metadata": {
    "collapsed": false,
    "ExecuteTime": {
     "end_time": "2024-01-27T20:22:08.838176Z",
     "start_time": "2024-01-27T20:22:08.830650Z"
    }
   },
   "id": "e144b383957d47e2",
   "execution_count": 53
  },
  {
   "cell_type": "code",
   "outputs": [
    {
     "name": "stdout",
     "output_type": "stream",
     "text": [
      "0 w (3, 3, 3, 32)\n",
      "0 b (32,)\n",
      "3 w (96800, 10)\n",
      "3 b (10,)\n"
     ]
    }
   ],
   "source": [
    "for i, layer in enumerate(model.layers):\n",
    "    if len(layer.get_weights()) > 0:        \n",
    "        print(i, 'w', layer.get_weights()[0].shape)\n",
    "        print(i, 'b', layer.get_weights()[1].shape)"
   ],
   "metadata": {
    "collapsed": false,
    "ExecuteTime": {
     "end_time": "2024-01-27T21:07:24.780846Z",
     "start_time": "2024-01-27T21:07:24.756888Z"
    }
   },
   "id": "e0a9776cc5477a91",
   "execution_count": 57
  },
  {
   "cell_type": "code",
   "outputs": [],
   "source": [
    "np.savez_compressed(\n",
    "    'SFDDD_model.npz',\n",
    "    conv_weights = model.layers[0].get_weights()[0],\n",
    "    conv_biases = model.layers[0].get_weights()[1],\n",
    "    dense_weights = model.layers[3].get_weights()[0],\n",
    "    dense_biases = model.layers[3].get_weights()[1],\n",
    ")"
   ],
   "metadata": {
    "collapsed": false,
    "ExecuteTime": {
     "end_time": "2024-01-27T21:07:26.434961Z",
     "start_time": "2024-01-27T21:07:26.301495Z"
    }
   },
   "id": "44d2cb3c926bfb8",
   "execution_count": 58
  },
  {
   "cell_type": "code",
   "outputs": [],
   "source": [],
   "metadata": {
    "collapsed": false
   },
   "id": "4c3ca6d0e880a5b0"
  }
 ],
 "metadata": {
  "kernelspec": {
   "display_name": "Python 3 (ipykernel)",
   "language": "python",
   "name": "python3"
  },
  "language_info": {
   "codemirror_mode": {
    "name": "ipython",
    "version": 3
   },
   "file_extension": ".py",
   "mimetype": "text/x-python",
   "name": "python",
   "nbconvert_exporter": "python",
   "pygments_lexer": "ipython3",
   "version": "3.11.6"
  }
 },
 "nbformat": 4,
 "nbformat_minor": 5
}
